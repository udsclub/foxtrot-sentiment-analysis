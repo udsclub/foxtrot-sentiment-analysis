{
 "cells": [
  {
   "cell_type": "code",
   "execution_count": null,
   "metadata": {
    "collapsed": true
   },
   "outputs": [],
   "source": [
    "import string\n",
    "import re\n",
    "import pandas as pd\n",
    "import time\n",
    "\n",
    "from nltk.corpus import stopwords\n",
    "from spacy.en import English\n",
    "# pip install -U spacy\n",
    "# python -m spacy.en.download all\n",
    "\n",
    "from sklearn.model_selection import train_test_split\n",
    "from sklearn.metrics import accuracy_score\n",
    "from fasttext import supervised, load_model"
   ]
  },
  {
   "cell_type": "markdown",
   "metadata": {},
   "source": [
    "the model can be found here:\n",
    "https://mega.nz/#!658hyBjK!3Nx5M0IOq3uBpl0nRt555ycaW-aeZXhc1b6EjZeizPE"
   ]
  },
  {
   "cell_type": "markdown",
   "metadata": {},
   "source": [
    "### Loading data"
   ]
  },
  {
   "cell_type": "code",
   "execution_count": null,
   "metadata": {
    "collapsed": false
   },
   "outputs": [],
   "source": [
    "data = pd.concat([pd.read_csv('reviews_rt_all.csv',sep='|'), \n",
    "                  pd.read_csv('imdb_small.csv',sep='|')], ignore_index=True)\n",
    "print(data.shape)\n",
    "data.head()"
   ]
  },
  {
   "cell_type": "markdown",
   "metadata": {},
   "source": [
    "### Processing data\n",
    "\n",
    "* Words with n't|'re|'s|'ve|'ll|'d were fixed for lemmatization\n",
    "* Actors could play in good and bad movies we attempted to remove them (at least such cases when their names are in brackets)\n",
    "* Digits, special signs and one-letter words were removed"
   ]
  },
  {
   "cell_type": "code",
   "execution_count": null,
   "metadata": {
    "collapsed": false
   },
   "outputs": [],
   "source": [
    "redundant_signs = set(string.punctuation) - set(['.'])\n",
    "letters = [x for x in string.ascii_lowercase + '. ']\n",
    "\n",
    "def clean_data(inp_str):\n",
    "    inp_str = inp_str.lower()\n",
    "\n",
    "    # fix haven't|doesn't|shouldn't cases\n",
    "    inp_str = inp_str.replace(\"n't\", \" not\")\n",
    "    inp_str = inp_str.replace(\"'re\", \" are\")\n",
    "    inp_str = inp_str.replace(\"'s\", \" s\")\n",
    "    inp_str = inp_str.replace(\"'ve\", \" have\")\n",
    "    inp_str = inp_str.replace(\"'ll\", \" will\")\n",
    "    inp_str = inp_str.replace(\"'d\", \" d\")\n",
    "\n",
    "    # here may be actor's names, types of smth etc. I guess it's redundant info\n",
    "    # let's discuss of necessity of this block\n",
    "    bracket_words = re.findall('([\\(\\[\\{].+?[\\)\\]\\}])', inp_str)\n",
    "    for word in bracket_words:\n",
    "        inp_str = inp_str.replace(''.join(word), \"\")\n",
    "\n",
    "    # replace redundant_signs\n",
    "    for item in redundant_signs:\n",
    "        inp_str = inp_str.replace(item, ' ')\n",
    "\n",
    "    # replace digits\n",
    "    inp_str = re.sub('\\d', ' ', inp_str)\n",
    "    # replace two or more dots. 1 dot is remained as it separates sentences\n",
    "    inp_str = re.sub('\\.{1,10}', ' ', inp_str)\n",
    "    # replace one-letter words or just letters\n",
    "    inp_str = re.sub(r\"\\b[a-z]{1}\\b\", ' ', inp_str)\n",
    "\n",
    "    return ' '.join(list(filter(None, inp_str.split(' '))))"
   ]
  },
  {
   "cell_type": "code",
   "execution_count": null,
   "metadata": {
    "collapsed": false
   },
   "outputs": [],
   "source": [
    "data['clean_text'] = data['text'].apply(clean_data)\n",
    "print('source data: ', data.shape)\n",
    "data.head()"
   ]
  },
  {
   "cell_type": "markdown",
   "metadata": {},
   "source": [
    "### Finalizing data\n",
    "\n",
    "* Lemmatization was made with spacy pasckage\n",
    "* The word 'movie' was removed\n",
    "* Reviews with non ascii letters and empty reviews were removed"
   ]
  },
  {
   "cell_type": "code",
   "execution_count": null,
   "metadata": {
    "collapsed": true
   },
   "outputs": [],
   "source": [
    "nlp = English()\n",
    "def lem(line, nlp):\n",
    "    return ' '.join([word.lemma_ for word in nlp(line)])"
   ]
  },
  {
   "cell_type": "code",
   "execution_count": null,
   "metadata": {
    "collapsed": true
   },
   "outputs": [],
   "source": [
    "stop_words = ['movie']"
   ]
  },
  {
   "cell_type": "code",
   "execution_count": null,
   "metadata": {
    "collapsed": true
   },
   "outputs": [],
   "source": [
    "def finalize_data(df, nlp):\n",
    "    df['stemed_text'] = df['clean_text'].apply(lem, args=(nlp,))\n",
    "    df['stemed_text'] = df['stemed_text'].apply(\n",
    "        lambda x: ' '.join([item for item in x.split() if item not in stop_words]))\n",
    "    df['is_ascii'] = df['stemed_text'].apply(lambda x: set(x).issubset(letters))\n",
    "    df['letters'] = df['stemed_text'].apply(len)\n",
    "#     df['new_label'] = df['label'].apply(lambda x: '__label__1 ' if x == 1 else '__label__0 ')\n",
    "\n",
    "    df = df[df['is_ascii'] == 1]\n",
    "    df = df[df['letters'] > 0]\n",
    "    df = df.reset_index()\n",
    "    df = df.ix[:, ['label', 'stemed_text']]\n",
    "\n",
    "    return df"
   ]
  },
  {
   "cell_type": "code",
   "execution_count": null,
   "metadata": {
    "collapsed": false
   },
   "outputs": [],
   "source": [
    "data = finalize_data(data, nlp)\n",
    "print('cleaned data: ', data.shape)\n",
    "data.head()"
   ]
  },
  {
   "cell_type": "markdown",
   "metadata": {},
   "source": [
    "### Accuracy evaluation"
   ]
  },
  {
   "cell_type": "code",
   "execution_count": null,
   "metadata": {
    "collapsed": true
   },
   "outputs": [],
   "source": [
    "def get_score(df, model_name):\n",
    "    \n",
    "    classifier = load_model(model_name, label_prefix='__label__')\n",
    "    test_prediction = classifier.predict_proba(list(df['stemed_text']))\n",
    "    test_predictions = [int(item[0][0]) for item in test_prediction]\n",
    "\n",
    "    print(\"=\" * 30)\n",
    "    print('****Results****')\n",
    "    acc_te = accuracy_score(list(df['label']), test_predictions)\n",
    "    print(\"Accuracy: test - {:.6}\\n\".format(acc_te))"
   ]
  },
  {
   "cell_type": "code",
   "execution_count": null,
   "metadata": {
    "collapsed": false,
    "scrolled": false
   },
   "outputs": [],
   "source": [
    "get_score(data, 'model_vec_wo_sw.bin')"
   ]
  }
 ],
 "metadata": {
  "anaconda-cloud": {},
  "kernelspec": {
   "display_name": "Python 3",
   "language": "python",
   "name": "python3"
  },
  "language_info": {
   "codemirror_mode": {
    "name": "ipython",
    "version": 3
   },
   "file_extension": ".py",
   "mimetype": "text/x-python",
   "name": "python",
   "nbconvert_exporter": "python",
   "pygments_lexer": "ipython3",
   "version": "3.6.0"
  }
 },
 "nbformat": 4,
 "nbformat_minor": 2
}
